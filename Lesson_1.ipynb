{
  "nbformat": 4,
  "nbformat_minor": 0,
  "metadata": {
    "colab": {
      "name": "Lesson_1.ipynb",
      "provenance": [],
      "collapsed_sections": []
    },
    "kernelspec": {
      "display_name": "Python 3",
      "language": "python",
      "name": "python3"
    },
    "language_info": {
      "codemirror_mode": {
        "name": "ipython",
        "version": 3
      },
      "file_extension": ".py",
      "mimetype": "text/x-python",
      "name": "python",
      "nbconvert_exporter": "python",
      "pygments_lexer": "ipython3",
      "version": "3.8.10"
    },
    "toc": {
      "base_numbering": 1,
      "nav_menu": {},
      "number_sections": false,
      "sideBar": true,
      "skip_h1_title": true,
      "title_cell": "Содержание",
      "title_sidebar": "Содержание",
      "toc_cell": false,
      "toc_position": {},
      "toc_section_display": true,
      "toc_window_display": false
    }
  },
  "cells": [
    {
      "cell_type": "markdown",
      "metadata": {
        "id": "nL0p7WkKqRDH"
      },
      "source": [
        "## Урок 1. Алгоритм линейной регрессии. \n",
        "## Градиентный спуск"
      ]
    },
    {
      "cell_type": "code",
      "metadata": {
        "id": "ak8b3KV45kVW"
      },
      "source": [
        "import numpy as np\n",
        "import matplotlib.pyplot as plt\n",
        "plt.rcParams.update({'font.size': 14})"
      ],
      "execution_count": 1,
      "outputs": []
    },
    {
      "cell_type": "markdown",
      "metadata": {
        "id": "AZ1ZD9qlqRDM"
      },
      "source": [
        "### Линейная регрессия"
      ]
    },
    {
      "cell_type": "code",
      "metadata": {
        "colab": {
          "base_uri": "https://localhost:8080/"
        },
        "id": "i77tZbAd5plB",
        "outputId": "8e570a32-d82f-4aa0-bfc3-440db3fce525"
      },
      "source": [
        "X = np.array([[1, 1, 1, 1, 1, 1, 1, 1, 1, 1],   # для умножения на intercept\n",
        "              [1, 1, 2, 1, 3, 0, 5, 10, 1, 2]]) # стаж\n",
        "X.shape"
      ],
      "execution_count": 2,
      "outputs": [
        {
          "output_type": "execute_result",
          "data": {
            "text/plain": [
              "(2, 10)"
            ]
          },
          "metadata": {
            "tags": []
          },
          "execution_count": 2
        }
      ]
    },
    {
      "cell_type": "markdown",
      "metadata": {
        "id": "AlZnAMGgqRDQ"
      },
      "source": [
        "$$\\vec{y}=X\\vec{w}+\\vec{\\epsilon},$$\n",
        "\n",
        "\n",
        "$$\\text{где }\\vec{y} = \\begin{pmatrix}\n",
        "y_{1}\\\\ \n",
        "\\vdots\\\\ \n",
        "y_{n}\n",
        "\\end{pmatrix}, \n",
        "X = \\begin{pmatrix}\n",
        "1 & x_{1}\\\\ \n",
        "\\vdots & \\vdots\\\\ \n",
        "1 & x_{n}\n",
        "\\end{pmatrix},\n",
        "\\vec{w} = \\begin{pmatrix}\n",
        "w_{0}\\\\ \n",
        "w_{1}\n",
        "\\end{pmatrix}\n",
        "$$"
      ]
    },
    {
      "cell_type": "code",
      "metadata": {
        "id": "VsNrKi1Q6Wmh"
      },
      "source": [
        "# средний балл ЕГЭ (целевая переменная)\n",
        "y = [45, 55, 50, 59, 65, 35, 75, 80, 50, 60]"
      ],
      "execution_count": 3,
      "outputs": []
    },
    {
      "cell_type": "code",
      "metadata": {
        "colab": {
          "base_uri": "https://localhost:8080/",
          "height": 279
        },
        "id": "qrXJ8gQBHMmy",
        "outputId": "6d5a291f-35df-4457-affd-383438386af6"
      },
      "source": [
        "plt.scatter(X[1], y)\n",
        "plt.xlabel('стаж')\n",
        "plt.ylabel('ср.балл ЕГЭ');"
      ],
      "execution_count": 4,
      "outputs": [
        {
          "output_type": "display_data",
          "data": {
            "image/png": "[encoded data removed]",
            "text/plain": [
              "<Figure size 432x288 with 1 Axes>"
            ]
          },
          "metadata": {
            "tags": [],
            "needs_background": "light"
          }
        }
      ]
    },
    {
      "cell_type": "code",
      "metadata": {
        "colab": {
          "base_uri": "https://localhost:8080/",
          "height": 279
        },
        "id": "4PqAAYUmqRDS",
        "outputId": "f2582659-c7c9-404a-b481-d73a18da5433"
      },
      "source": [
        "# y = m * x + b\n",
        "m = 10\n",
        "b = 1\n",
        "plt.scatter(X[1], y);\n",
        "plt.plot(X[1],  m * X[1] + b, color='red')\n",
        "plt.xlabel('стаж')\n",
        "plt.ylabel('ср.балл ЕГЭ');"
      ],
      "execution_count": 5,
      "outputs": [
        {
          "output_type": "display_data",
          "data": {
            "image/png": "[encoded data removed]",
            "text/plain": [
              "<Figure size 432x288 with 1 Axes>"
            ]
          },
          "metadata": {
            "tags": [],
            "needs_background": "light"
          }
        }
      ]
    },
    {
      "cell_type": "code",
      "metadata": {
        "id": "NntLxvtU7CbH"
      },
      "source": [
        "y_pred1 = 45 + 4.5 * X[1] \n",
        "y_pred2 = 40 + 6 * X[1]"
      ],
      "execution_count": 6,
      "outputs": []
    },
    {
      "cell_type": "code",
      "metadata": {
        "colab": {
          "base_uri": "https://localhost:8080/"
        },
        "id": "XsDNASCq9VBe",
        "outputId": "24fbb221-f699-4ab1-e141-dadd46f54aa9"
      },
      "source": [
        "y_pred1"
      ],
      "execution_count": 7,
      "outputs": [
        {
          "output_type": "execute_result",
          "data": {
            "text/plain": [
              "array([49.5, 49.5, 54. , 49.5, 58.5, 45. , 67.5, 90. , 49.5, 54. ])"
            ]
          },
          "metadata": {
            "tags": []
          },
          "execution_count": 7
        }
      ]
    },
    {
      "cell_type": "code",
      "metadata": {
        "colab": {
          "base_uri": "https://localhost:8080/"
        },
        "id": "R8zyO-Qfs51Z",
        "outputId": "67601d33-571f-4bf1-9d98-17cde32d4abc"
      },
      "source": [
        "y_pred2"
      ],
      "execution_count": 8,
      "outputs": [
        {
          "output_type": "execute_result",
          "data": {
            "text/plain": [
              "array([ 46,  46,  52,  46,  58,  40,  70, 100,  46,  52])"
            ]
          },
          "metadata": {
            "tags": []
          },
          "execution_count": 8
        }
      ]
    },
    {
      "cell_type": "code",
      "metadata": {
        "colab": {
          "base_uri": "https://localhost:8080/",
          "height": 279
        },
        "id": "kbQbHKlas_3u",
        "outputId": "b346ec0d-72e0-424f-a578-da267e087e92"
      },
      "source": [
        "plt.scatter(X[1], y)\n",
        "plt.plot(X[1], y_pred1, label='pred 1')\n",
        "plt.plot(X[1], y_pred2, label='pred 2')\n",
        "plt.xlabel('стаж')\n",
        "plt.ylabel('ср.балл ЕГЭ')\n",
        "plt.legend();"
      ],
      "execution_count": 9,
      "outputs": [
        {
          "output_type": "display_data",
          "data": {
            "image/png": "[encoded data removed]",
            "text/plain": [
              "<Figure size 432x288 with 1 Axes>"
            ]
          },
          "metadata": {
            "tags": [],
            "needs_background": "light"
          }
        }
      ]
    },
    {
      "cell_type": "code",
      "metadata": {
        "colab": {
          "base_uri": "https://localhost:8080/"
        },
        "id": "CQBNKqayqRDa",
        "outputId": "bfe02da2-c758-4053-a237-29e42722946c"
      },
      "source": [
        "w = [35, 5]\n",
        "print(w @ X)\n",
        "print(np.dot(w, X))\n",
        "print(np.dot(X.T, w))\n",
        "print(w[0] * X[0] + w[1] * X[1])\n",
        "print(np.sum(w * X.T, axis=1))"
      ],
      "execution_count": 10,
      "outputs": [
        {
          "output_type": "stream",
          "text": [
            "[40 40 45 40 50 35 60 85 40 45]\n",
            "[40 40 45 40 50 35 60 85 40 45]\n",
            "[40 40 45 40 50 35 60 85 40 45]\n",
            "[40 40 45 40 50 35 60 85 40 45]\n",
            "[40 40 45 40 50 35 60 85 40 45]\n"
          ],
          "name": "stdout"
        }
      ]
    },
    {
      "cell_type": "code",
      "metadata": {
        "colab": {
          "base_uri": "https://localhost:8080/"
        },
        "id": "zbsqjAxH9WqI",
        "outputId": "4ac7e0e2-a1b2-4b35-81ec-5c15a7d553a0"
      },
      "source": [
        "err1 = np.mean(y - y_pred1)\n",
        "err2 = np.mean(y - y_pred2)\n",
        "err1, err2"
      ],
      "execution_count": 11,
      "outputs": [
        {
          "output_type": "execute_result",
          "data": {
            "text/plain": [
              "(0.7, 1.8)"
            ]
          },
          "metadata": {
            "tags": []
          },
          "execution_count": 11
        }
      ]
    },
    {
      "cell_type": "code",
      "metadata": {
        "colab": {
          "base_uri": "https://localhost:8080/"
        },
        "id": "vUqCthPf9eYI",
        "outputId": "f7a832a9-5f21-472c-8cd4-87c5656e9336"
      },
      "source": [
        "# mae - mean absolute error\n",
        "mae_1 = np.mean(np.abs(y - y_pred1))\n",
        "mae_2 = np.mean(np.abs(y - y_pred2))\n",
        "mae_1, mae_2"
      ],
      "execution_count": 12,
      "outputs": [
        {
          "output_type": "execute_result",
          "data": {
            "text/plain": [
              "(6.4, 7.4)"
            ]
          },
          "metadata": {
            "tags": []
          },
          "execution_count": 12
        }
      ]
    },
    {
      "cell_type": "code",
      "metadata": {
        "colab": {
          "base_uri": "https://localhost:8080/"
        },
        "id": "XTn2bZIg_EBS",
        "outputId": "3af1beb0-6074-4ad0-8893-79e44fdc4dc3"
      },
      "source": [
        "# mse - mean squared error\n",
        "mse_1 = np.mean((y - y_pred1)**2)\n",
        "mse_2 = np.mean((y - y_pred2)**2)\n",
        "mse_1, mse_2"
      ],
      "execution_count": 13,
      "outputs": [
        {
          "output_type": "execute_result",
          "data": {
            "text/plain": [
              "(49.15, 83.4)"
            ]
          },
          "metadata": {
            "tags": []
          },
          "execution_count": 13
        }
      ]
    },
    {
      "cell_type": "markdown",
      "metadata": {
        "id": "R4zHyZ2Da5HV"
      },
      "source": [
        "### Метод наименьших квадратов"
      ]
    },
    {
      "cell_type": "markdown",
      "metadata": {
        "id": "F7FP9eOWqRDe"
      },
      "source": [
        "Нормальное уравнение линейной регрессии\n",
        "$$\\vec{w} = (X^{T}X)^{-1}X^{T}\\vec{y}$$"
      ]
    },
    {
      "cell_type": "code",
      "metadata": {
        "colab": {
          "base_uri": "https://localhost:8080/"
        },
        "id": "mnyZzkaDBegD",
        "outputId": "2776f7a8-ade6-49c2-dfb0-5092b654376c"
      },
      "source": [
        "w = np.linalg.inv(X @ X.T) @ X @ y\n",
        "#w = np.dot(np.linalg.inv(np.dot(X, X.T)),X)\n",
        "w"
      ],
      "execution_count": 14,
      "outputs": [
        {
          "output_type": "execute_result",
          "data": {
            "text/plain": [
              "array([47.23214286,  3.91071429])"
            ]
          },
          "metadata": {
            "tags": []
          },
          "execution_count": 14
        }
      ]
    },
    {
      "cell_type": "code",
      "metadata": {
        "colab": {
          "base_uri": "https://localhost:8080/"
        },
        "id": "sxTOwgTOqRDf",
        "outputId": "fed84b50-9d8e-4a46-fd04-a6e7fd97a4f3"
      },
      "source": [
        "w1 = np.sum((y - np.mean(y)) * (X[1] - X[1].mean())) / np.sum((X[1] - X[1].mean()) ** 2)\n",
        "w0 = np.mean(y) - w1 * X[1].mean()\n",
        "w0, w1"
      ],
      "execution_count": 15,
      "outputs": [
        {
          "output_type": "execute_result",
          "data": {
            "text/plain": [
              "(47.23214285714286, 3.910714285714285)"
            ]
          },
          "metadata": {
            "tags": []
          },
          "execution_count": 15
        }
      ]
    },
    {
      "cell_type": "code",
      "metadata": {
        "colab": {
          "base_uri": "https://localhost:8080/",
          "height": 265
        },
        "id": "Lyg-J3H7Bnv5",
        "outputId": "54f2c3d5-6814-456e-c99a-0422aa18e0d1"
      },
      "source": [
        "plt.scatter(X[1], y)\n",
        "plt.plot(X[1], 45 + X[1] * 4.5, color='g')\n",
        "plt.plot(X[1], 40 + X[1] * 7)\n",
        "plt.plot(X[1], w[0] + w[1] * X[1], color='red');"
      ],
      "execution_count": 16,
      "outputs": [
        {
          "output_type": "display_data",
          "data": {
            "image/png": "[encoded data removed]",
            "text/plain": [
              "<Figure size 432x288 with 1 Axes>"
            ]
          },
          "metadata": {
            "tags": [],
            "needs_background": "light"
          }
        }
      ]
    },
    {
      "cell_type": "code",
      "metadata": {
        "id": "JTSC2cFnCd8T"
      },
      "source": [
        "def calc_mse(y, y_pred):\n",
        "    err = np.mean((y - y_pred)**2)\n",
        "    return err\n",
        "\n",
        "def calc_mae(y, y_pred):\n",
        "    err = np.mean(np.abs(y - y_pred))\n",
        "    return err"
      ],
      "execution_count": 17,
      "outputs": []
    },
    {
      "cell_type": "code",
      "metadata": {
        "colab": {
          "base_uri": "https://localhost:8080/"
        },
        "id": "AaE_x_nCDW3x",
        "outputId": "7fa52c32-e825-4c69-b639-3d4eda3ba98d"
      },
      "source": [
        "calc_mae(y, y_pred1), calc_mse(y, y_pred1)"
      ],
      "execution_count": 18,
      "outputs": [
        {
          "output_type": "execute_result",
          "data": {
            "text/plain": [
              "(6.4, 49.15)"
            ]
          },
          "metadata": {
            "tags": []
          },
          "execution_count": 18
        }
      ]
    },
    {
      "cell_type": "code",
      "metadata": {
        "colab": {
          "base_uri": "https://localhost:8080/"
        },
        "id": "Yxo6vu3NDaTC",
        "outputId": "266dc22f-5ac3-4172-95b7-0d561167b4b3"
      },
      "source": [
        "y_pred3 = w[0] + w[1] * X[1]\n",
        "y_pred3"
      ],
      "execution_count": 19,
      "outputs": [
        {
          "output_type": "execute_result",
          "data": {
            "text/plain": [
              "array([51.14285714, 51.14285714, 55.05357143, 51.14285714, 58.96428571,\n",
              "       47.23214286, 66.78571429, 86.33928571, 51.14285714, 55.05357143])"
            ]
          },
          "metadata": {
            "tags": []
          },
          "execution_count": 19
        }
      ]
    },
    {
      "cell_type": "code",
      "metadata": {
        "colab": {
          "base_uri": "https://localhost:8080/"
        },
        "id": "_WtO6lvhDmQ6",
        "outputId": "a1229142-8537-4567-f7d8-a13c7f98a056"
      },
      "source": [
        "calc_mae(y, y_pred3), calc_mse(y, y_pred3)"
      ],
      "execution_count": 20,
      "outputs": [
        {
          "output_type": "execute_result",
          "data": {
            "text/plain": [
              "(6.182142857142859, 45.93750000000002)"
            ]
          },
          "metadata": {
            "tags": []
          },
          "execution_count": 20
        }
      ]
    },
    {
      "cell_type": "markdown",
      "metadata": {
        "id": "JAOgIXLRa--g"
      },
      "source": [
        "### Градиентный спуск"
      ]
    },
    {
      "cell_type": "markdown",
      "metadata": {
        "id": "NVVl-waPqRDi"
      },
      "source": [
        "$$L(w)=\\frac{1}{n}\\sum^{n}_{i=1}\\big({y_{pred}}_i-y_{i}\\big)^{2}=\\frac{1}{n}\\sum^{n}_{i=1}\\big((w_0\\cdot x_{i0}+w_1\\cdot x_{i1})-y_{i}\\big)^{2}\\rightarrow \\underset{w}{\\text{min}}$$\n",
        "$$w_j\\leftarrow w_j-\\alpha\\frac{\\partial}{\\partial w_j}L(w)$$\n",
        "$$\\frac{\\partial L(w)}{\\partial w_j}=\\frac{1}{n} 2\\sum^{n}_{i=1}x_{ij}\\Big(\\sum^{m}_{j=0}(w_jx_{ij})-y_i\\Big)$$\n",
        "$$\\vec{w}=\\vec{w}-\\alpha \\frac{2}{n}X^T(X\\vec{w}-\\vec{y}) $$\n"
      ]
    },
    {
      "cell_type": "code",
      "metadata": {
        "colab": {
          "base_uri": "https://localhost:8080/"
        },
        "id": "5DKkvmkwHdOx",
        "outputId": "985d1f68-7c15-4fb3-f118-f523e27ea4b8"
      },
      "source": [
        "n = 10\n",
        "alpha = 1e-3\n",
        "w = np.array([1, 0.5])\n",
        "grad = 1/n * 2 * np.sum(X * (np.sum(w * X.T, axis=1) - y), axis=1)\n",
        "grad = 1/n * 2 * np.dot(X, (np.dot(w, X) - y))\n",
        "w, w - alpha * grad"
      ],
      "execution_count": 21,
      "outputs": [
        {
          "output_type": "execute_result",
          "data": {
            "text/plain": [
              "(array([1. , 0.5]), array([1.1102, 0.84  ]))"
            ]
          },
          "metadata": {
            "tags": []
          },
          "execution_count": 21
        }
      ]
    },
    {
      "cell_type": "markdown",
      "metadata": {
        "id": "gawI7MGMqRDi"
      },
      "source": [
        "### Домашние задания"
      ]
    },
    {
      "cell_type": "markdown",
      "metadata": {
        "id": "huXrhXQsZTMt"
      },
      "source": [
        "1. Подберите скорость обучения (alpha) и количество итераций:"
      ]
    },
    {
      "cell_type": "code",
      "metadata": {
        "colab": {
          "base_uri": "https://localhost:8080/"
        },
        "id": "IDB22MQKMYaJ",
        "outputId": "06bab6ba-fa2c-44b4-dfd3-79d5d7f3af07"
      },
      "source": [
        "n = X.shape[1]\n",
        "alpha = 5e-3\n",
        "w = np.array([1, 0.5])\n",
        "\n",
        "for i in range(10000):\n",
        "    y_pred = np.dot(w, X)\n",
        "    err = calc_mse(y, y_pred)\n",
        "    for j in range(w.shape[0]):\n",
        "        w[j] -= alpha * (1/n * 2 * np.sum(X[j] * (y_pred - y)))\n",
        "    if i % 400 == 0:\n",
        "        print(i, w, err)"
      ],
      "execution_count": 22,
      "outputs": [
        {
          "output_type": "stream",
          "text": [
            "0 [1.551 2.2  ] 3173.15\n",
            "400 [41.77878595  4.91771835] 62.093311360799156\n",
            "800 [46.55424157  4.03589394] 46.18715130574685\n",
            "1200 [47.14787363  3.92627524] 45.94135779290617\n",
            "1600 [47.22166744  3.91264865] 45.93755961341185\n",
            "2000 [47.23084067  3.91095474] 45.937500921189624\n",
            "2400 [47.23198098  3.91074418] 45.93750001423486\n",
            "2800 [47.23212273  3.910718  ] 45.937500000219956\n",
            "3200 [47.23214036  3.91071475] 45.93750000000339\n",
            "3600 [47.23214255  3.91071434] 45.93750000000007\n",
            "4000 [47.23214282  3.91071429] 45.9375\n",
            "4400 [47.23214285  3.91071429] 45.937499999999986\n",
            "4800 [47.23214286  3.91071429] 45.9375\n",
            "5200 [47.23214286  3.91071429] 45.93749999999999\n",
            "5600 [47.23214286  3.91071429] 45.93750000000001\n",
            "6000 [47.23214286  3.91071429] 45.93749999999999\n",
            "6400 [47.23214286  3.91071429] 45.93749999999998\n",
            "6800 [47.23214286  3.91071429] 45.93749999999998\n",
            "7200 [47.23214286  3.91071429] 45.93749999999998\n",
            "7600 [47.23214286  3.91071429] 45.93749999999998\n",
            "8000 [47.23214286  3.91071429] 45.93749999999998\n",
            "8400 [47.23214286  3.91071429] 45.93749999999998\n",
            "8800 [47.23214286  3.91071429] 45.93749999999998\n",
            "9200 [47.23214286  3.91071429] 45.93749999999998\n",
            "9600 [47.23214286  3.91071429] 45.93749999999998\n"
          ],
          "name": "stdout"
        }
      ]
    },
    {
      "cell_type": "markdown",
      "metadata": {
        "id": "NNnRo7CHrEey"
      },
      "source": [
        "Увеличем скорсть обучения, а также уменьшим число итереций для увеличения скорости работы программы"
      ]
    },
    {
      "cell_type": "code",
      "metadata": {
        "colab": {
          "base_uri": "https://localhost:8080/"
        },
        "id": "FXJOgRjYqdWF",
        "outputId": "e04603dc-a02a-409e-dad1-09baf24ca3a4"
      },
      "source": [
        "n = X.shape[1]\n",
        "alpha1 = 2e-2\n",
        "w = np.array([1, 0.5])\n",
        "\n",
        "for i in range(1001):\n",
        "    y_pred = np.dot(w, X)\n",
        "    err = calc_mse(y, y_pred)\n",
        "    for j in range(w.shape[0]):\n",
        "        w[j] -= alpha1 * (1/n * 2 * np.sum(X[j] * (y_pred - y)))\n",
        "\n",
        "    if i % 100 == 0:\n",
        "        print(i, w, err)"
      ],
      "execution_count": 40,
      "outputs": [
        {
          "output_type": "stream",
          "text": [
            "0 [3.204 7.3  ] 3173.15\n",
            "100 [41.95214292  4.88570667] 61.568780958579865\n",
            "200 [46.58653419  4.02993086] 46.171203616546116\n",
            "300 [47.15320146  3.92529142] 45.94099410777859\n",
            "400 [47.22249035  3.9124967 ] 45.937552240480294\n",
            "500 [47.2309626   3.91093223] 45.93750078104854\n",
            "600 [47.23199854  3.91074093] 45.93750001167747\n",
            "700 [47.23212521  3.91071754] 45.937500000174595\n",
            "800 [47.2321407   3.91071468] 45.93750000000263\n",
            "900 [47.23214259  3.91071433] 45.93750000000004\n",
            "1000 [47.23214282  3.91071429] 45.937499999999986\n"
          ],
          "name": "stdout"
        }
      ]
    },
    {
      "cell_type": "markdown",
      "metadata": {
        "id": "5Qu1o4JhZYwI"
      },
      "source": [
        "##### 2. В этом коде мы избавляемся от итераций по весам, но тут есть ошибка, исправьте ее:"
      ]
    },
    {
      "cell_type": "code",
      "metadata": {
        "colab": {
          "base_uri": "https://localhost:8080/"
        },
        "id": "WZZzDCQLY4pA",
        "outputId": "9dc7c8f6-81fb-48cc-852b-7b36cc1b08f5"
      },
      "source": [
        "w = np.array([1, 0.5])\n",
        "\n",
        "for i in range(1000):\n",
        "    y_pred = np.dot(w, X)\n",
        "    err = calc_mse(y, y_pred)\n",
        "    \n",
        "    w -= (alpha * (1/n * 2 * np.sum(X * (y_pred - y))))\n",
        "    if i % 100 == 0:\n",
        "        print(i, w, err)"
      ],
      "execution_count": 56,
      "outputs": [
        {
          "output_type": "stream",
          "text": [
            "0 [3.251 2.751] 3173.15\n",
            "100 [11.82211538 11.32211538] 737.0918269230771\n",
            "200 [11.82211538 11.32211538] 737.0918269230771\n",
            "300 [11.82211538 11.32211538] 737.0918269230771\n",
            "400 [11.82211538 11.32211538] 737.0918269230771\n",
            "500 [11.82211538 11.32211538] 737.0918269230771\n",
            "600 [11.82211538 11.32211538] 737.0918269230771\n",
            "700 [11.82211538 11.32211538] 737.0918269230771\n",
            "800 [11.82211538 11.32211538] 737.0918269230771\n",
            "900 [11.82211538 11.32211538] 737.0918269230771\n"
          ],
          "name": "stdout"
        }
      ]
    },
    {
      "cell_type": "markdown",
      "metadata": {
        "id": "VXwsPcz5EStS"
      },
      "source": [
        "Должно применяться произведение матриц, а так же транспонируем матрицу ответов(так как матрицы записаны в строковом виде)"
      ]
    },
    {
      "cell_type": "code",
      "metadata": {
        "colab": {
          "base_uri": "https://localhost:8080/"
        },
        "id": "lQYuuJctECa2",
        "outputId": "bdde8bcf-1b35-4b36-e990-c9adad6cdfb0"
      },
      "source": [
        "w = np.array([1, 0.5])\n",
        "\n",
        "for i in range(2001):\n",
        "    y_pred = np.dot(w, X)\n",
        "    err = calc_mse(y, y_pred)\n",
        "    \n",
        "    w -= (alpha * (1/n * 2 * (X @ (y_pred - y).T)))\n",
        "    if i % 200 == 0:\n",
        "        print(i, w, err)"
      ],
      "execution_count": 60,
      "outputs": [
        {
          "output_type": "stream",
          "text": [
            "0 [1.551 2.2  ] 3173.15\n",
            "200 [31.7649089   6.76685736] 175.90244862743484\n",
            "400 [41.77878595  4.91771835] 62.093311360799156\n",
            "600 [45.30942664  4.26575854] 47.94581257567727\n",
            "800 [46.55424157  4.03589394] 46.18715130574685\n",
            "1000 [46.99313195  3.95484948] 45.96853390140358\n",
            "1200 [47.14787363  3.92627524] 45.94135779290617\n",
            "1400 [47.20243165  3.91620069] 45.937979558335684\n",
            "1600 [47.22166744  3.91264865] 45.93755961341185\n",
            "1800 [47.22844949  3.91139629] 45.93750741048294\n",
            "2000 [47.23084067  3.91095474] 45.937500921189624\n"
          ],
          "name": "stdout"
        }
      ]
    },
    {
      "cell_type": "code",
      "metadata": {
        "id": "bbg_Jm1dEDRI"
      },
      "source": [
        ""
      ],
      "execution_count": 59,
      "outputs": []
    },
    {
      "cell_type": "markdown",
      "metadata": {
        "id": "8yUntwlFq9Yg"
      },
      "source": [
        "##### 3. Вместо того, чтобы задавать количество итераций, задайте условие остановки алгоритма - когда ошибка за итерацию начинает изменяться ниже определенного порога"
      ]
    },
    {
      "cell_type": "code",
      "metadata": {
        "colab": {
          "base_uri": "https://localhost:8080/"
        },
        "id": "kGLyytFgHdco",
        "outputId": "95d0e772-ec77-47af-d5e9-a727294198dd"
      },
      "source": [
        "n = X.shape[1]\n",
        "alpha1 = 2e-2\n",
        "w = np.array([1, 0.5])\n",
        "e = 1e-5\n",
        "\n",
        "err_pr = 0\n",
        "for i in range(1001):\n",
        "    y_pred = np.dot(w, X)\n",
        "    err = calc_mse(y, y_pred)\n",
        "    for j in range(w.shape[0]):\n",
        "        w[j] -= alpha1 * (1/n * 2 * np.sum(X[j] * (y_pred - y)))\n",
        "    if abs(err - err_pr) < e:\n",
        "      break\n",
        "    err_pr = err\n",
        "\n",
        "print(i, w, err)"
      ],
      "execution_count": 26,
      "outputs": [
        {
          "output_type": "stream",
          "text": [
            "365 [47.21200224  3.91443341] 45.937727442886604\n"
          ],
          "name": "stdout"
        }
      ]
    }
  ]
}