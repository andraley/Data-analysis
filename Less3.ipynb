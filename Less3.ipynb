{
  "nbformat": 4,
  "nbformat_minor": 0,
  "metadata": {
    "colab": {
      "name": "Lesson_3.ipynb",
      "provenance": [],
      "collapsed_sections": []
    },
    "kernelspec": {
      "display_name": "Python 3",
      "language": "python",
      "name": "python3"
    },
    "language_info": {
      "codemirror_mode": {
        "name": "ipython",
        "version": 3
      },
      "file_extension": ".py",
      "mimetype": "text/x-python",
      "name": "python",
      "nbconvert_exporter": "python",
      "pygments_lexer": "ipython3",
      "version": "3.8.10"
    },
    "toc": {
      "base_numbering": 1,
      "nav_menu": {},
      "number_sections": false,
      "sideBar": true,
      "skip_h1_title": true,
      "title_cell": "Содержание",
      "title_sidebar": "Содержание",
      "toc_cell": false,
      "toc_position": {},
      "toc_section_display": true,
      "toc_window_display": false
    }
  },
  "cells": [
    {
      "cell_type": "markdown",
      "metadata": {
        "id": "PhVevfa6w2zc"
      },
      "source": [
        "### Урок 3. Логистическая регрессия. Log Loss"
      ]
    },
    {
      "cell_type": "code",
      "metadata": {
        "id": "zhwkeWtb1O0w"
      },
      "source": [
        "import numpy as np\n",
        "import matplotlib.pyplot as plt\n",
        "import seaborn as sns\n",
        "sns.set(style=\"whitegrid\")\n",
        "sns.set_context(\"paper\", font_scale=2) "
      ],
      "execution_count": 41,
      "outputs": []
    },
    {
      "cell_type": "code",
      "metadata": {
        "id": "y2v61Zjkw2zf"
      },
      "source": [
        "%matplotlib inline\n",
        "plt.style.use('seaborn-ticks')\n",
        "plt.rcParams.update({'font.size': 14})"
      ],
      "execution_count": 42,
      "outputs": []
    },
    {
      "cell_type": "code",
      "metadata": {
        "id": "FeKFn2yb1To4"
      },
      "source": [
        "X = np.array([[1, 1, 1, 1, 1, 1, 1, 1, 1, 1],\n",
        "              [1, 1, 2, 1, 3, 0, 5, 10, 1, 2],  # стаж\n",
        "              [500, 700, 750, 600, 1450,        # средняя стоимость занятия\n",
        "               800, 1500, 2000, 450, 1000],\n",
        "              [1, 1, 2, 1, 2, 1, 3, 3, 1, 2]], dtype = np.float64) # квалификация репетитора\n",
        "\n",
        "y = np.array([0, 0, 1, 0, 1, 0, 1, 0, 1, 1]) # подходит или нет репетитор"
      ],
      "execution_count": 43,
      "outputs": []
    },
    {
      "cell_type": "code",
      "metadata": {
        "id": "fS4ZSyTrPD6V"
      },
      "source": [
        "#Если предсказывать с помощью линейной регрессии, то могут появляться такие числа:   \n",
        "\n",
        "#-1, -0.2, 1.3, 0.05 ..."
      ],
      "execution_count": 44,
      "outputs": []
    },
    {
      "cell_type": "code",
      "metadata": {
        "id": "IFlAQmfoQCqc"
      },
      "source": [
        "p = [0, 1]"
      ],
      "execution_count": 45,
      "outputs": []
    },
    {
      "cell_type": "code",
      "metadata": {
        "id": "7pM_ENmXPxMN"
      },
      "source": [
        "#$odds = \\frac{p}{1 - p} = \\frac{p_1}{p_0}$"
      ],
      "execution_count": 46,
      "outputs": []
    },
    {
      "cell_type": "code",
      "metadata": {
        "colab": {
          "base_uri": "https://localhost:8080/"
        },
        "id": "OS_TUIgdPl1M",
        "outputId": "953be3ef-9061-4b69-a0fd-089427231542"
      },
      "source": [
        "0.5 / (1 - 0.5)"
      ],
      "execution_count": 47,
      "outputs": [
        {
          "output_type": "execute_result",
          "data": {
            "text/plain": [
              "1.0"
            ]
          },
          "metadata": {
            "tags": []
          },
          "execution_count": 47
        }
      ]
    },
    {
      "cell_type": "code",
      "metadata": {
        "colab": {
          "base_uri": "https://localhost:8080/"
        },
        "id": "J3tXMyWOPlh7",
        "outputId": "09449185-80ee-4989-e770-1e2e79472bc4"
      },
      "source": [
        "0.01 / (1 - 0.01)"
      ],
      "execution_count": 48,
      "outputs": [
        {
          "output_type": "execute_result",
          "data": {
            "text/plain": [
              "0.010101010101010102"
            ]
          },
          "metadata": {
            "tags": []
          },
          "execution_count": 48
        }
      ]
    },
    {
      "cell_type": "code",
      "metadata": {
        "colab": {
          "base_uri": "https://localhost:8080/"
        },
        "id": "q61xUBtbPlJp",
        "outputId": "b022dc7f-6bdd-49b7-b840-d92e97714d02"
      },
      "source": [
        "0.9999 / (1 - 0.9999)"
      ],
      "execution_count": 49,
      "outputs": [
        {
          "output_type": "execute_result",
          "data": {
            "text/plain": [
              "9999.0000000011"
            ]
          },
          "metadata": {
            "tags": []
          },
          "execution_count": 49
        }
      ]
    },
    {
      "cell_type": "code",
      "metadata": {
        "colab": {
          "base_uri": "https://localhost:8080/"
        },
        "id": "ImNIlxczQvf_",
        "outputId": "397cc54d-003f-4222-bdb8-668780521293"
      },
      "source": [
        "p = 1e-10\n",
        "np.log(p / (1 - p))                       "
      ],
      "execution_count": 50,
      "outputs": [
        {
          "output_type": "execute_result",
          "data": {
            "text/plain": [
              "-23.025850929840455"
            ]
          },
          "metadata": {
            "tags": []
          },
          "execution_count": 50
        }
      ]
    },
    {
      "cell_type": "code",
      "metadata": {
        "colab": {
          "base_uri": "https://localhost:8080/"
        },
        "id": "MvFKM0w7Rndj",
        "outputId": "8333b7cb-a174-48e2-a980-c018c8c41aaf"
      },
      "source": [
        "p = 0.999\n",
        "np.log(p / (1 - p))"
      ],
      "execution_count": 51,
      "outputs": [
        {
          "output_type": "execute_result",
          "data": {
            "text/plain": [
              "6.906754778648553"
            ]
          },
          "metadata": {
            "tags": []
          },
          "execution_count": 51
        }
      ]
    },
    {
      "cell_type": "code",
      "metadata": {
        "id": "5GuJhwb6U-r_"
      },
      "source": [
        "#$$\\vec{w}X = \\ln\\Big(\\frac{\\vec{p}}{1 - \\vec{p}}\\Big)$$\n",
        "#$$\\vec{p}=\\frac{1}{1+\\exp{(-\\vec{w}X)}}$$"
      ],
      "execution_count": 52,
      "outputs": []
    },
    {
      "cell_type": "code",
      "metadata": {
        "colab": {
          "base_uri": "https://localhost:8080/"
        },
        "id": "yXSj4nbxHsFd",
        "outputId": "7fd2bad5-99b0-4a89-f2a1-f69cc331978d"
      },
      "source": [
        "X"
      ],
      "execution_count": 53,
      "outputs": [
        {
          "output_type": "execute_result",
          "data": {
            "text/plain": [
              "array([[1.00e+00, 1.00e+00, 1.00e+00, 1.00e+00, 1.00e+00, 1.00e+00,\n",
              "        1.00e+00, 1.00e+00, 1.00e+00, 1.00e+00],\n",
              "       [1.00e+00, 1.00e+00, 2.00e+00, 1.00e+00, 3.00e+00, 0.00e+00,\n",
              "        5.00e+00, 1.00e+01, 1.00e+00, 2.00e+00],\n",
              "       [5.00e+02, 7.00e+02, 7.50e+02, 6.00e+02, 1.45e+03, 8.00e+02,\n",
              "        1.50e+03, 2.00e+03, 4.50e+02, 1.00e+03],\n",
              "       [1.00e+00, 1.00e+00, 2.00e+00, 1.00e+00, 2.00e+00, 1.00e+00,\n",
              "        3.00e+00, 3.00e+00, 1.00e+00, 2.00e+00]])"
            ]
          },
          "metadata": {
            "tags": []
          },
          "execution_count": 53
        }
      ]
    },
    {
      "cell_type": "code",
      "metadata": {
        "colab": {
          "base_uri": "https://localhost:8080/"
        },
        "id": "QU0A16vZHugZ",
        "outputId": "415c7a51-a2d0-4046-d5a5-756f0851002e"
      },
      "source": [
        "y"
      ],
      "execution_count": 54,
      "outputs": [
        {
          "output_type": "execute_result",
          "data": {
            "text/plain": [
              "array([0, 0, 1, 0, 1, 0, 1, 0, 1, 1])"
            ]
          },
          "metadata": {
            "tags": []
          },
          "execution_count": 54
        }
      ]
    },
    {
      "cell_type": "code",
      "metadata": {
        "colab": {
          "base_uri": "https://localhost:8080/"
        },
        "id": "M-aO1NTxOUfo",
        "outputId": "cc9fb432-ed73-440a-f617-db59c1c8ebe5"
      },
      "source": [
        "def calc_std_feat(x):\n",
        "    res = (x - x.mean()) / x.std()\n",
        "    return res\n",
        "\n",
        "X_st = X.copy()\n",
        "X_st[2, :] = calc_std_feat(X[2, :])\n",
        "X_st[2, :]"
      ],
      "execution_count": 55,
      "outputs": [
        {
          "output_type": "execute_result",
          "data": {
            "text/plain": [
              "array([-0.97958969, -0.56713087, -0.46401617, -0.77336028,  0.97958969,\n",
              "       -0.36090146,  1.08270439,  2.11385144, -1.08270439,  0.05155735])"
            ]
          },
          "metadata": {
            "tags": []
          },
          "execution_count": 55
        }
      ]
    },
    {
      "cell_type": "markdown",
      "metadata": {
        "id": "VdytW9lkw2zt"
      },
      "source": [
        "$$Logloss=-y \\ln(p) - (1-y)\\ln(1-p)$$"
      ]
    },
    {
      "cell_type": "code",
      "metadata": {
        "id": "qMR5pOA38dDw"
      },
      "source": [
        "def calc_logloss(y, y_pred):\n",
        "    err = np.mean(- y * np.log(y_pred) - (1.0 - y) * np.log(1.0 - y_pred))\n",
        "    return err"
      ],
      "execution_count": 56,
      "outputs": []
    },
    {
      "cell_type": "code",
      "metadata": {
        "colab": {
          "base_uri": "https://localhost:8080/"
        },
        "id": "R6zfOHMrBvnX",
        "outputId": "bf143cbd-5e40-434f-c5bb-f91312f4fa25"
      },
      "source": [
        "# Пример применения\n",
        "y_true = 1\n",
        "y_pred = 0.00001\n",
        "calc_logloss(y_true, y_pred)"
      ],
      "execution_count": 57,
      "outputs": [
        {
          "output_type": "execute_result",
          "data": {
            "text/plain": [
              "11.512925464970229"
            ]
          },
          "metadata": {
            "tags": []
          },
          "execution_count": 57
        }
      ]
    },
    {
      "cell_type": "code",
      "metadata": {
        "id": "EEF9rWPNDnss"
      },
      "source": [
        "def sigmoid(z):\n",
        "    res = 1 / (1 + np.exp(-z))\n",
        "    return res"
      ],
      "execution_count": 58,
      "outputs": []
    },
    {
      "cell_type": "code",
      "metadata": {
        "colab": {
          "base_uri": "https://localhost:8080/"
        },
        "id": "_9tN8lBEEeXU",
        "outputId": "5288e839-56e0-4531-da6f-b771169875ab"
      },
      "source": [
        "z = np.linspace(-10, 10, 101)\n",
        "z"
      ],
      "execution_count": 59,
      "outputs": [
        {
          "output_type": "execute_result",
          "data": {
            "text/plain": [
              "array([-10. ,  -9.8,  -9.6,  -9.4,  -9.2,  -9. ,  -8.8,  -8.6,  -8.4,\n",
              "        -8.2,  -8. ,  -7.8,  -7.6,  -7.4,  -7.2,  -7. ,  -6.8,  -6.6,\n",
              "        -6.4,  -6.2,  -6. ,  -5.8,  -5.6,  -5.4,  -5.2,  -5. ,  -4.8,\n",
              "        -4.6,  -4.4,  -4.2,  -4. ,  -3.8,  -3.6,  -3.4,  -3.2,  -3. ,\n",
              "        -2.8,  -2.6,  -2.4,  -2.2,  -2. ,  -1.8,  -1.6,  -1.4,  -1.2,\n",
              "        -1. ,  -0.8,  -0.6,  -0.4,  -0.2,   0. ,   0.2,   0.4,   0.6,\n",
              "         0.8,   1. ,   1.2,   1.4,   1.6,   1.8,   2. ,   2.2,   2.4,\n",
              "         2.6,   2.8,   3. ,   3.2,   3.4,   3.6,   3.8,   4. ,   4.2,\n",
              "         4.4,   4.6,   4.8,   5. ,   5.2,   5.4,   5.6,   5.8,   6. ,\n",
              "         6.2,   6.4,   6.6,   6.8,   7. ,   7.2,   7.4,   7.6,   7.8,\n",
              "         8. ,   8.2,   8.4,   8.6,   8.8,   9. ,   9.2,   9.4,   9.6,\n",
              "         9.8,  10. ])"
            ]
          },
          "metadata": {
            "tags": []
          },
          "execution_count": 59
        }
      ]
    },
    {
      "cell_type": "code",
      "metadata": {
        "colab": {
          "base_uri": "https://localhost:8080/",
          "height": 275
        },
        "id": "nvIe3RpbEp4l",
        "outputId": "b20cd385-c7c0-4c54-b3ce-ba3d682f8d46"
      },
      "source": [
        "probabilities = sigmoid(z)\n",
        "plt.plot(z, probabilities);\n",
        "plt.grid();"
      ],
      "execution_count": 60,
      "outputs": [
        {
          "output_type": "display_data",
          "data": {
            "image/png": "[encoded data removed]",
            "text/plain": [
              "<Figure size 432x288 with 1 Axes>"
            ]
          },
          "metadata": {
            "tags": []
          }
        }
      ]
    },
    {
      "cell_type": "code",
      "metadata": {
        "id": "e6TH-mkPItb6"
      },
      "source": [
        "### Logistic Regression"
      ],
      "execution_count": 61,
      "outputs": []
    },
    {
      "cell_type": "code",
      "metadata": {
        "id": "qtgUN3LW-UIq"
      },
      "source": [
        "def eval_LR_model(X, y, iterations, alpha=1e-4):\n",
        "    np.random.seed(42)\n",
        "    w = np.random.randn(X.shape[0])\n",
        "    n = X.shape[1]\n",
        "    for i in range(1, iterations + 1):\n",
        "        \n",
        "        \n",
        "        z = np.dot(w, X)\n",
        "        y_pred = sigmoid(z)\n",
        "        err = calc_logloss(y, y_pred)\n",
        "        \n",
        "        #y_pred = np.dot(w, X)\n",
        "        #err = calc_mse(y, y_pred)\n",
        "    \n",
        "    \n",
        "        w -= alpha * (1/n * np.dot((y_pred - y), X.T))\n",
        "        if i % (iterations / 10) == 0:\n",
        "            print(i, w, err)\n",
        "    return w"
      ],
      "execution_count": 71,
      "outputs": []
    },
    {
      "cell_type": "code",
      "metadata": {
        "colab": {
          "base_uri": "https://localhost:8080/"
        },
        "id": "oqX7loklBmYZ",
        "outputId": "fddfe34d-6c5e-4bbb-af33-18f8eb382d14"
      },
      "source": [
        "w = eval_LR_model(X_st, y, iterations=1000, alpha=1e-2)"
      ],
      "execution_count": 63,
      "outputs": [
        {
          "output_type": "stream",
          "text": [
            "100 [ 0.25769171 -0.68297243  0.68841418  1.2405903 ] 0.5908596023453088\n",
            "200 [ 0.14805533 -0.69317972  0.77965488  1.21287192] 0.5687278067099053\n",
            "300 [ 0.06257746 -0.68605867  0.85181735  1.21283095] 0.5560473747533587\n",
            "400 [-0.00887935 -0.68415387  0.90713736  1.22443854] 0.5476800278385013\n",
            "500 [-0.0701621  -0.68661758  0.94984062  1.24404686] 0.541676599615156\n",
            "600 [-0.1239972  -0.69202069  0.98318257  1.26924759] 0.5369841864977791\n",
            "700 [-0.17239277 -0.69933957  1.00953865  1.29824779] 0.5330427663756572\n",
            "800 [-0.21681092 -0.7078635   1.03062761  1.32973537] 0.5295551503580799\n",
            "900 [-0.25830834 -0.71709934  1.04769231  1.36276535] 0.5263621224044183\n",
            "1000 [-0.29764618 -0.72670545  1.061634    1.39666497] 0.5233765331724747\n"
          ],
          "name": "stdout"
        }
      ]
    },
    {
      "cell_type": "code",
      "metadata": {
        "id": "Mbwxo9NqbLJy"
      },
      "source": [
        "### Домашние задания"
      ],
      "execution_count": 64,
      "outputs": []
    },
    {
      "cell_type": "markdown",
      "metadata": {
        "id": "F2Up1BDCw2zy"
      },
      "source": [
        "1. *Измените функцию calc_logloss так, чтобы нули по возможности не попадали в np.log (как вариант - np.clip).  \n",
        "2. Подберите аргументы функции eval_LR_model для логистической регрессии таким образом, чтобы log loss был минимальным.\n",
        "3. Создайте функцию calc_pred_proba, возвращающую предсказанную вероятность класса 1 (на вход подаются веса, которые уже посчитаны функцией eval_LR_model и X, на выходе - массив y_pred_proba).\n",
        "4. Создайте функцию calc_pred, возвращающую предсказанный класс (на вход подаются веса, которые уже посчитаны функцией eval_LR_model и X, на выходе - массив y_pred).\n",
        "5. Посчитайте accuracy, матрицу ошибок, precision и recall, а также F1-score.\n",
        "6. Могла ли модель переобучиться? Почему?\n",
        "7. *Создайте функции eval_LR_model_l1 и eval_LR_model_l2 с применением L1 и L2 регуляризации соответственно."
      ]
    },
    {
      "cell_type": "markdown",
      "metadata": {
        "id": "rOdUfVxXGZlI"
      },
      "source": [
        "2. Подберите аргументы функции eval_LR_model для логистической регрессии таким образом, чтобы log loss был минимальным."
      ]
    },
    {
      "cell_type": "code",
      "metadata": {
        "colab": {
          "base_uri": "https://localhost:8080/"
        },
        "id": "CNANoYEMGenc",
        "outputId": "607b285e-58ed-4e7b-ff24-8ef73a113427"
      },
      "source": [
        "alpha_list = np.linspace(1e-8, 1e-1,  10)\n",
        "for i in alpha_list:\n",
        "  print(f\"alfa={i}\")\n",
        "  eval_LR_model(X_st, y, iterations=2000, alpha=i)\n",
        "  print()"
      ],
      "execution_count": 80,
      "outputs": [
        {
          "output_type": "stream",
          "text": [
            "alfa=1e-08\n",
            "200 [ 0.49671337 -0.13826667  0.6476885   1.5230287 ] 1.220061879130942\n",
            "400 [ 0.49671259 -0.13826903  0.64768846  1.52302755] 1.2200581116396614\n",
            "600 [ 0.49671181 -0.1382714   0.64768842  1.5230264 ] 1.2200543441536351\n",
            "800 [ 0.49671104 -0.13827376  0.64768838  1.52302524] 1.2200505766728649\n",
            "1000 [ 0.49671026 -0.13827613  0.64768834  1.52302409] 1.2200468091973502\n",
            "1200 [ 0.49670948 -0.1382785   0.64768831  1.52302294] 1.2200430417270893\n",
            "1400 [ 0.4967087  -0.13828086  0.64768827  1.52302179] 1.220039274262087\n",
            "1600 [ 0.49670792 -0.13828323  0.64768823  1.52302063] 1.220035506802339\n",
            "1800 [ 0.49670714 -0.13828559  0.64768819  1.52301948] 1.2200317393478457\n",
            "2000 [ 0.49670636 -0.13828796  0.64768815  1.52301833] 1.2200279718986065\n",
            "\n",
            "alfa=0.01111112\n",
            "200 [ 0.12754115 -0.69131206  0.79740873  1.21151591] 0.5653996856927244\n",
            "400 [-0.03721473 -0.68479856  0.92749038  1.23231349] 0.5448018051778577\n",
            "600 [-0.15678341 -0.69673401  1.00143872  1.28824327] 0.5342980941722031\n",
            "800 [-0.25382864 -0.71605042  1.04598529  1.35904266] 0.5267080575243872\n",
            "1000 [-0.33949171 -0.7375319   1.0742711   1.43478401] 0.5202454876602176\n",
            "1200 [-0.41915086 -0.75888995  1.09278532  1.51085293] 0.5144215340519952\n",
            "1400 [-0.49540594 -0.77916438  1.1048452   1.58522131] 0.5090624985968197\n",
            "1600 [-0.56952792 -0.79800168  1.11223932  1.65708299] 0.5040796683617105\n",
            "1800 [-0.6421495  -0.81532356  1.11600353  1.72619849] 0.4994134652672928\n",
            "2000 [-0.71359411 -0.83117299  1.11679135  1.79258421] 0.4950184083785447\n",
            "\n",
            "alfa=0.022222230000000003\n",
            "200 [-0.0374482  -0.68474227  0.9278176   1.23219856] 0.5448429415441138\n",
            "400 [-0.25395227 -0.71605759  1.04619213  1.35904666] 0.5267340530016829\n",
            "600 [-0.4192133  -0.75893015  1.0929217   1.51092457] 0.5144434942887492\n",
            "800 [-0.56956937 -0.79805304  1.11234596  1.65717959] 0.5040986394692037\n",
            "1000 [-0.71363067 -0.83122628  1.11688374  1.79268765] 0.4950352351554367\n",
            "1200 [-0.85360168 -0.85889242  1.11121003  1.91781323] 0.4869178726156978\n",
            "1400 [-0.99015394 -0.88190685  1.09781119  2.03388196] 0.4795265346474548\n",
            "1600 [-1.1235666  -0.90107298  1.07836614  2.14220727] 0.47270998558481175\n",
            "1800 [-1.25400537 -0.91706637  1.05414342  2.24391428] 0.46636178688450525\n",
            "2000 [-1.38159542 -0.93044173  1.02614646  2.33993725] 0.4604054226037448\n",
            "\n",
            "alfa=0.03333334\n",
            "200 [-0.15713761 -0.69669008  1.00197072  1.2881372 ] 0.534356546599255\n",
            "400 [-0.41927597 -0.7589708   1.09305858  1.51099712] 0.5144654165865198\n",
            "600 [-0.64222563 -0.81542991  1.11620094  1.72640194] 0.49944905741160195\n",
            "800 [-0.85363915 -0.8589444   1.11129314  1.91791734] 0.486933089284319\n",
            "1000 [-1.05728193 -0.891973    1.08882841  2.08903718] 0.4760673859695544\n",
            "1200 [-1.25405029 -0.91710835  1.05420202  2.24400808] 0.46637396225577615\n",
            "1400 [-1.44440451 -0.93632973  1.01103902  2.3861519 ] 0.45756713299955354\n",
            "1600 [-1.62869376 -0.95110705  0.96195497  2.51797314] 0.44946769277971554\n",
            "1800 [-1.80721624 -0.96253903  0.90888099  2.64137274] 0.44195750995841027\n",
            "2000 [-1.98023863 -0.97145467  0.85325755  2.75781035] 0.43495457333843646\n",
            "\n",
            "alfa=0.04444445\n",
            "200 [-0.25420035 -0.71607331  1.04660806  1.35905727] 0.5267859042262673\n",
            "400 [-0.56965303 -0.79815687  1.11256052  1.65737512] 0.5041364877427842\n",
            "600 [-0.85367686 -0.85899661  1.11137657  1.91802197] 0.4869482870434328\n",
            "800 [-1.12365139 -0.90116428  1.07849946  2.1424033 ] 0.4727359869208937\n",
            "1000 [-1.38169065 -0.93051871  1.02624829  2.34011705] 0.4604283096937089\n",
            "1200 [-1.62874631 -0.95113886  0.96199141  2.51805542] 0.44947789251271797\n",
            "1400 [-1.86554588 -0.96578172  0.89058699  2.68097246] 0.43957930513225796\n",
            "1600 [-2.09271369 -0.976339    0.81531649  2.83220766] 0.4305457140980874\n",
            "1800 [-2.31081165 -0.98412524  0.73841328  2.9741518 ] 0.42225162200171207\n",
            "2000 [-2.52035952 -0.99006034  0.66139383  3.10854427] 0.41460510927571\n",
            "\n",
            "alfa=0.055555560000000004\n",
            "200 [-0.3398368  -0.73764471  1.07493214  1.43497019] 0.5203405934062405\n",
            "400 [-0.71374203 -0.83138798  1.1171631   1.79300197] 0.4950855578527893\n",
            "600 [-1.05736454 -0.89206819  1.08897031  2.08923788] 0.4760942980664014\n",
            "800 [-1.38173861 -0.93055738  1.02629939  2.34020744] 0.46043973633828983\n",
            "1000 [-1.68893587 -0.95530429  0.94469336  2.56012335] 0.4469232858762025\n",
            "1200 [-1.98035653 -0.97150117  0.85329331  2.75795533] 0.434971915047577\n",
            "1400 [-2.25717192 -0.98240029  0.75770479  2.93949888] 0.4242688568006727\n",
            "1600 [-2.52042673 -0.99007349  0.66138951  3.10860573] 0.4146117902162631\n",
            "1800 [-2.77108263 -0.99584928  0.56645892  3.26789658] 0.4058546713325848\n",
            "2000 [-3.01003755 -1.00057745  0.47415718  3.4191928 ] 0.39788261699447625\n",
            "\n",
            "alfa=0.06666667\n",
            "200 [-0.41946472 -0.75909538  1.09347234  1.51121988] 0.514530988067252\n",
            "400 [-0.85375288 -0.85910175  1.11154442  1.91823277] 0.48697862913033213\n",
            "600 [-1.25418644 -0.91723515  1.05437877  2.24429167] 0.46641041285523466\n",
            "800 [-1.62885205 -0.95120275  0.96206449  2.51822075] 0.44949826517362446\n",
            "1000 [-1.98041578 -0.9715245   0.85331121  2.75802813] 0.43498057470314305\n",
            "1200 [-2.3109404  -0.98415848  0.73841991  2.97428227] 0.4222664285080119\n",
            "1400 [-2.62221807 -0.99256702  0.62315829  3.17344366] 0.4110142607754376\n",
            "1600 [-2.91587666 -0.99878015  0.51069326  3.3595981 ] 0.4009891345259825\n",
            "1800 [-3.19341905 -1.00398033  0.40265983  3.53541019] 0.39201047974664205\n",
            "2000 [-3.45623613 -1.00884153  0.29978625  3.70267416] 0.38393130298722544\n",
            "\n",
            "alfa=0.07777777999999999\n",
            "200 [-0.49570139 -0.77945566  1.10556271  1.5857589 ] 0.509184079375016\n",
            "400 [-0.99035449 -0.88215394  1.09818732  2.03439381] 0.47959635743141665\n",
            "600 [-1.44460174 -0.93647762  1.0112285   2.38650596] 0.4576114938428432\n",
            "800 [-1.86571772 -0.96585971  0.89065798  2.68120001] 0.439606704787009\n",
            "1000 [-2.25729946 -0.98243558  0.75771571  2.93963185] 0.4242840399695257\n",
            "1200 [-2.62228696 -0.99257874  0.62315061  3.1735039 ] 0.4110205975430737\n",
            "1400 [-2.9632867  -0.99970178  0.49233484  3.38961764] 0.39942965328785823\n",
            "1600 [-3.28267086 -1.00562054  0.36775464  3.59209818] 0.38922846193507554\n",
            "1800 [-3.58260524 -1.01127202  0.25033366  3.78356015] 0.38019365357202084\n",
            "2000 [-3.86505676 -1.01710941  0.1401664   3.96574582] 0.3721433200145171\n",
            "\n",
            "alfa=0.08888889\n",
            "200 [-0.56982227 -0.798369    1.11299526  1.65777504] 0.5042118582502673\n",
            "400 [-1.12382359 -0.90134895  1.07876878  2.14280024] 0.4727878274469502\n",
            "600 [-1.62895859 -0.95126701  0.96213791  2.51838715] 0.4495186028417678\n",
            "800 [-2.09295852 -0.97642265  0.81536687  2.83248818] 0.4305785585597014\n",
            "1000 [-2.52062948 -0.99011308  0.66137633  3.10879103] 0.4146317969134647\n",
            "1200 [-2.9160213  -0.99879657  0.51066196  3.3597118 ] 0.4010000257627553\n",
            "1400 [-3.28274655 -1.00562573  0.36773191  3.59215248] 0.38923293800797826\n",
            "1600 [-3.62406031 -1.01209149  0.23412886  3.81017481] 0.3789908492546848\n",
            "1800 [-3.94287818 -1.01884494  0.10995405  4.01632882] 0.37000549426017704\n",
            "2000 [-4.24178723 -1.02612074 -0.00534611  4.21233672] 0.36206194118907614\n",
            "\n",
            "alfa=0.1\n",
            "200 [-0.64245884 -0.81575707  1.11680356  1.72702881] 0.4995552177931558\n",
            "400 [-1.25432451 -0.91736333  1.05455726  2.24457861] 0.4664467561141666\n",
            "600 [-1.80755433 -0.96270374  0.90904148  2.64183838] 0.44201377632900957\n",
            "800 [-2.31113497 -0.98420861  0.73842971  2.97447927] 0.42228858977623346\n",
            "1000 [-2.77136565 -0.99588853  0.56641089  3.26813012] 0.4058781527072773\n",
            "1200 [-3.193644   -1.00399774  0.40259598  3.53557456] 0.3920245709386051\n",
            "1400 [-3.58276075 -1.01127932  0.2502806   3.78366682] 0.3802012406906377\n",
            "1600 [-3.9429576  -1.01884757  0.10992481  4.01638187] 0.370008589285831\n",
            "1800 [-4.27794785 -1.0270723  -0.01920407  4.23624356] 0.3611357882733707\n",
            "2000 [-4.59094777 -1.0359998  -0.13825631  4.44501211] 0.3533392419345193\n",
            "\n"
          ],
          "name": "stdout"
        }
      ]
    },
    {
      "cell_type": "markdown",
      "metadata": {
        "id": "wHIDRXwxRqZk"
      },
      "source": [
        "3. Создайте функцию calc_pred_proba, возвращающую предсказанную вероятность класса 1 (на вход подаются веса, которые уже посчитаны функцией eval_LR_model и X, на выходе - массив y_pred_proba)."
      ]
    },
    {
      "cell_type": "code",
      "metadata": {
        "colab": {
          "base_uri": "https://localhost:8080/"
        },
        "id": "J3eidF0dw2zy",
        "outputId": "a0e3757b-a12c-4ae2-ea69-edf5fdab972d"
      },
      "source": [
        "w = eval_LR_model(X_st, y, iterations=2000, alpha=i)"
      ],
      "execution_count": 81,
      "outputs": [
        {
          "output_type": "stream",
          "text": [
            "200 [-0.64245884 -0.81575707  1.11680356  1.72702881] 0.4995552177931558\n",
            "400 [-1.25432451 -0.91736333  1.05455726  2.24457861] 0.4664467561141666\n",
            "600 [-1.80755433 -0.96270374  0.90904148  2.64183838] 0.44201377632900957\n",
            "800 [-2.31113497 -0.98420861  0.73842971  2.97447927] 0.42228858977623346\n",
            "1000 [-2.77136565 -0.99588853  0.56641089  3.26813012] 0.4058781527072773\n",
            "1200 [-3.193644   -1.00399774  0.40259598  3.53557456] 0.3920245709386051\n",
            "1400 [-3.58276075 -1.01127932  0.2502806   3.78366682] 0.3802012406906377\n",
            "1600 [-3.9429576  -1.01884757  0.10992481  4.01638187] 0.370008589285831\n",
            "1800 [-4.27794785 -1.0270723  -0.01920407  4.23624356] 0.3611357882733707\n",
            "2000 [-4.59094777 -1.0359998  -0.13825631  4.44501211] 0.3533392419345193\n"
          ],
          "name": "stdout"
        }
      ]
    },
    {
      "cell_type": "code",
      "metadata": {
        "id": "JDCQ6jgKRsb_"
      },
      "source": [
        "def calc_pred_proba(w, X):\n",
        "  return sigmoid(w @ X)"
      ],
      "execution_count": 85,
      "outputs": []
    },
    {
      "cell_type": "code",
      "metadata": {
        "colab": {
          "base_uri": "https://localhost:8080/"
        },
        "id": "iD5XczytSpLv",
        "outputId": "511e5de7-6108-49b4-dc0e-a1fc64b61c3b"
      },
      "source": [
        "y_pred_proba = calc_pred_proba(w, X_st)\n",
        "y_pred_proba"
      ],
      "execution_count": 89,
      "outputs": [
        {
          "output_type": "execute_result",
          "data": {
            "text/plain": [
              "array([0.25989757, 0.2490798 , 0.9081481 , 0.25445082, 0.74185696,\n",
              "       0.47600875, 0.96815152, 0.1291874 , 0.26264914, 0.90202666])"
            ]
          },
          "metadata": {
            "tags": []
          },
          "execution_count": 89
        }
      ]
    },
    {
      "cell_type": "markdown",
      "metadata": {
        "id": "ViuBjfk4Wuq0"
      },
      "source": [
        "4. Создайте функцию calc_pred, возвращающую предсказанный класс (на вход подаются веса, которые уже посчитаны функцией eval_LR_model и X, на выходе - массив y_pred)."
      ]
    },
    {
      "cell_type": "code",
      "metadata": {
        "id": "7lzDqKMnTnh-"
      },
      "source": [
        "def calc_pred(y):\n",
        "  return [1 if i>0.5 else 0 for i in y]  "
      ],
      "execution_count": 109,
      "outputs": []
    },
    {
      "cell_type": "code",
      "metadata": {
        "colab": {
          "base_uri": "https://localhost:8080/"
        },
        "id": "zKbBQxqkX3ER",
        "outputId": "c0cee002-13cb-4275-95b3-4957191fe0ab"
      },
      "source": [
        "y_pred = calc_pred(y_pred_proba)\n",
        "y_pred"
      ],
      "execution_count": 110,
      "outputs": [
        {
          "output_type": "execute_result",
          "data": {
            "text/plain": [
              "[0, 0, 1, 0, 1, 0, 1, 0, 0, 1]"
            ]
          },
          "metadata": {
            "tags": []
          },
          "execution_count": 110
        }
      ]
    },
    {
      "cell_type": "markdown",
      "metadata": {
        "id": "QxM14TSEYEvQ"
      },
      "source": [
        "5. Посчитайте accuracy, матрицу ошибок, precision и recall, а также F1-score."
      ]
    },
    {
      "cell_type": "code",
      "metadata": {
        "colab": {
          "base_uri": "https://localhost:8080/"
        },
        "id": "MRwkEx6YX_N9",
        "outputId": "719187ac-2063-4cb2-910e-42f14e8c3d98"
      },
      "source": [
        "def accuracy(y, y_pred):\n",
        "  if len(y) != len(y_pred):\n",
        "    raise Exception('Неверные данные')\n",
        "  tr_an = 0\n",
        "  for i in range(len(y)):\n",
        "    if y[i] == y_pred[i]:\n",
        "      tr_an += 1\n",
        "  return tr_an/(len(y))\n",
        "accuracy(y, y_pred)"
      ],
      "execution_count": 111,
      "outputs": [
        {
          "output_type": "execute_result",
          "data": {
            "text/plain": [
              "0.9"
            ]
          },
          "metadata": {
            "tags": []
          },
          "execution_count": 111
        }
      ]
    },
    {
      "cell_type": "code",
      "metadata": {
        "colab": {
          "base_uri": "https://localhost:8080/"
        },
        "id": "O-IPDAPPaFxz",
        "outputId": "ea939ebf-5d76-40f1-9916-c762beef2789"
      },
      "source": [
        "def metr(y, y_pred, b):\n",
        "  if len(y) != len(y_pred):\n",
        "    raise Exception('Неверные данные')\n",
        "  tp, fp, tn, fn = 0, 0 , 0 , 0\n",
        "  for i in range(len(y)):\n",
        "    if y[i] == y_pred[i] and y_pred[i] == 1:\n",
        "      tp += 1\n",
        "    elif y[i] != y_pred[i] and y_pred[i] == 1:\n",
        "      fp += 1\n",
        "    elif y[i] == y_pred[i] and y_pred[i] == 0:\n",
        "      tn += 1\n",
        "    elif y[i] != y_pred[i] and y_pred[i] == 0:\n",
        "      fn += 1\n",
        "    else:\n",
        "      raise Exception('ошибка при составнении матрици')\n",
        "  prec = tp/(tp+fp)\n",
        "  rec = tp/(tp+fn)\n",
        "  f = (1+b**2)* prec*rec/(b**2*prec+rec)\n",
        "  print(f'Матрица ошибок: {[[tp, fp], [tn, fn]]}')\n",
        "  print(f'Precision: {prec}')\n",
        "  print(f'Recall: {rec}')\n",
        "  print(f'F{b}: {f}')\n",
        "  return [[tp, fp], [tn, fn]], prec, rec, f\n",
        "a = metr(y, y_pred, 1)"
      ],
      "execution_count": 112,
      "outputs": [
        {
          "output_type": "stream",
          "text": [
            "Матрица ошибок: [[4, 0], [5, 1]]\n",
            "Precision: 1.0\n",
            "Recall: 0.8\n",
            "F1: 0.888888888888889\n"
          ],
          "name": "stdout"
        }
      ]
    },
    {
      "cell_type": "markdown",
      "metadata": {
        "id": "2_N2tqc_gLnh"
      },
      "source": [
        "6. Могла ли модель переобучиться? Почему?"
      ]
    },
    {
      "cell_type": "code",
      "metadata": {
        "id": "5YHR-LbkgN31"
      },
      "source": [
        "Модель не переобучена, так как в результатах отсутствуют ложные сробатывания модели."
      ],
      "execution_count": null,
      "outputs": []
    }
  ]
}