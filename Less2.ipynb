{
  "nbformat": 4,
  "nbformat_minor": 0,
  "metadata": {
    "colab": {
      "name": "Lesson_2.ipynb",
      "provenance": [],
      "collapsed_sections": []
    },
    "kernelspec": {
      "display_name": "Python 3",
      "language": "python",
      "name": "python3"
    },
    "language_info": {
      "codemirror_mode": {
        "name": "ipython",
        "version": 3
      },
      "file_extension": ".py",
      "mimetype": "text/x-python",
      "name": "python",
      "nbconvert_exporter": "python",
      "pygments_lexer": "ipython3",
      "version": "3.8.10"
    },
    "toc": {
      "base_numbering": 1,
      "nav_menu": {},
      "number_sections": false,
      "sideBar": true,
      "skip_h1_title": true,
      "title_cell": "Содержание",
      "title_sidebar": "Содержание",
      "toc_cell": false,
      "toc_position": {},
      "toc_section_display": true,
      "toc_window_display": false
    }
  },
  "cells": [
    {
      "cell_type": "markdown",
      "metadata": {
        "id": "AzAah-6ee_uk"
      },
      "source": [
        "## Урок 2. Масштабирование признаков. Регуляризация. Стохастический градиентный спуск."
      ]
    },
    {
      "cell_type": "code",
      "metadata": {
        "id": "_u5bV-OlT34p"
      },
      "source": [
        "import numpy as np\n",
        "import matplotlib.pyplot as plt"
      ],
      "execution_count": null,
      "outputs": []
    },
    {
      "cell_type": "code",
      "metadata": {
        "id": "_n6il-AZaLuA"
      },
      "source": [
        "# К признаку стажа добавим новые признаки\n",
        "X = np.array([[1, 1, 1, 1, 1, 1, 1, 1, 1, 1],\n",
        "              [1, 1, 2, 1, 3, 0, 5, 10, 1, 2],  # стаж\n",
        "              [500, 700, 750, 600, 1450,        # средняя стоимость занятия\n",
        "               800, 1500, 2000, 450, 1000],\n",
        "              [1, 1, 2, 1, 2, 1, 3, 3, 1, 2]])  # квалификация репетитора\n",
        "               \n",
        "y = [45, 55, 50, 59, 65, 35, 75, 80, 50, 60]"
      ],
      "execution_count": null,
      "outputs": []
    },
    {
      "cell_type": "code",
      "metadata": {
        "id": "rGGhNYL2e_uq"
      },
      "source": [
        "#w = np.linalg.inv(X_st @ X_st.T) @ X_st @ y\n",
        "#w[1:] # 21.86576833,  4.56617094,  5.2704732"
      ],
      "execution_count": null,
      "outputs": []
    },
    {
      "cell_type": "markdown",
      "metadata": {
        "id": "ZEGOYQmje_ut"
      },
      "source": [
        "### Нормализация [0, 1]"
      ]
    },
    {
      "cell_type": "code",
      "metadata": {
        "colab": {
          "base_uri": "https://localhost:8080/"
        },
        "id": "Ei5qeZO_aT6m",
        "outputId": "32b677df-a08c-4c3b-d783-6859ee0a93e1"
      },
      "source": [
        "X[1].min(), X[1].max()"
      ],
      "execution_count": null,
      "outputs": [
        {
          "output_type": "execute_result",
          "data": {
            "text/plain": [
              "(0, 10)"
            ]
          },
          "metadata": {
            "tags": []
          },
          "execution_count": 10
        }
      ]
    },
    {
      "cell_type": "code",
      "metadata": {
        "colab": {
          "base_uri": "https://localhost:8080/"
        },
        "id": "L7wsW1Q7b4Ts",
        "outputId": "7c6fc416-91ef-4519-bd29-40abd9624aed"
      },
      "source": [
        "X[2].min(), X[2].max()"
      ],
      "execution_count": null,
      "outputs": [
        {
          "output_type": "execute_result",
          "data": {
            "text/plain": [
              "(450, 2000)"
            ]
          },
          "metadata": {
            "tags": []
          },
          "execution_count": 11
        }
      ]
    },
    {
      "cell_type": "code",
      "metadata": {
        "colab": {
          "base_uri": "https://localhost:8080/"
        },
        "id": "E55S9Bzob9Xa",
        "outputId": "acaea546-0b7b-4225-ea52-d9d7ab196c19"
      },
      "source": [
        "X_norm = X.copy()\n",
        "X_norm = X_norm.astype(np.float64)\n",
        "X_norm"
      ],
      "execution_count": null,
      "outputs": [
        {
          "output_type": "execute_result",
          "data": {
            "text/plain": [
              "array([[1.00e+00, 1.00e+00, 1.00e+00, 1.00e+00, 1.00e+00, 1.00e+00,\n",
              "        1.00e+00, 1.00e+00, 1.00e+00, 1.00e+00],\n",
              "       [1.00e+00, 1.00e+00, 2.00e+00, 1.00e+00, 3.00e+00, 0.00e+00,\n",
              "        5.00e+00, 1.00e+01, 1.00e+00, 2.00e+00],\n",
              "       [5.00e+02, 7.00e+02, 7.50e+02, 6.00e+02, 1.45e+03, 8.00e+02,\n",
              "        1.50e+03, 2.00e+03, 4.50e+02, 1.00e+03],\n",
              "       [1.00e+00, 1.00e+00, 2.00e+00, 1.00e+00, 2.00e+00, 1.00e+00,\n",
              "        3.00e+00, 3.00e+00, 1.00e+00, 2.00e+00]])"
            ]
          },
          "metadata": {
            "tags": []
          },
          "execution_count": 12
        }
      ]
    },
    {
      "cell_type": "markdown",
      "metadata": {
        "id": "GZstq0oKe_uy"
      },
      "source": [
        "$$x_{ij} = \\frac{x_{ij} - min_{j} (x_{ij})}{max_{j} (x_{ij})-min_{j} (x_{ij})}$$"
      ]
    },
    {
      "cell_type": "code",
      "metadata": {
        "colab": {
          "base_uri": "https://localhost:8080/"
        },
        "id": "7x-6IuPOcIo0",
        "outputId": "742fbbd4-864b-4375-e273-7ae34d5c2a4d"
      },
      "source": [
        "X_norm[1] = (X[1] - X[1].min()) / (X[1].max() - X[1].min())\n",
        "X_norm[1]"
      ],
      "execution_count": null,
      "outputs": [
        {
          "output_type": "execute_result",
          "data": {
            "text/plain": [
              "array([0.1, 0.1, 0.2, 0.1, 0.3, 0. , 0.5, 1. , 0.1, 0.2])"
            ]
          },
          "metadata": {
            "tags": []
          },
          "execution_count": 13
        }
      ]
    },
    {
      "cell_type": "code",
      "metadata": {
        "colab": {
          "base_uri": "https://localhost:8080/"
        },
        "id": "izkMRdXFcjyK",
        "outputId": "333e328e-663a-42ce-e17d-832669ad2042"
      },
      "source": [
        "X_norm[2] = (X[2] - X[2].min()) / (X[2].max() - X[2].min())\n",
        "X_norm[2]"
      ],
      "execution_count": null,
      "outputs": [
        {
          "output_type": "execute_result",
          "data": {
            "text/plain": [
              "array([0.03225806, 0.16129032, 0.19354839, 0.09677419, 0.64516129,\n",
              "       0.22580645, 0.67741935, 1.        , 0.        , 0.35483871])"
            ]
          },
          "metadata": {
            "tags": []
          },
          "execution_count": 14
        }
      ]
    },
    {
      "cell_type": "code",
      "metadata": {
        "id": "Zy63bpFfeqzu"
      },
      "source": [
        "### Стандартизация"
      ],
      "execution_count": null,
      "outputs": []
    },
    {
      "cell_type": "markdown",
      "metadata": {
        "id": "vgRrESQVKI_K"
      },
      "source": [
        ""
      ]
    },
    {
      "cell_type": "code",
      "metadata": {
        "colab": {
          "base_uri": "https://localhost:8080/",
          "height": 265
        },
        "id": "8i9pB-3-fMD4",
        "outputId": "54dd2bb2-37b6-428f-9c62-d94b89025480"
      },
      "source": [
        "plt.hist(X[1]);"
      ],
      "execution_count": null,
      "outputs": [
        {
          "output_type": "display_data",
          "data": {
            "image/png": "[encoded data removed]",
            "text/plain": [
              "<Figure size 432x288 with 1 Axes>"
            ]
          },
          "metadata": {
            "tags": [],
            "needs_background": "light"
          }
        }
      ]
    },
    {
      "cell_type": "code",
      "metadata": {
        "colab": {
          "base_uri": "https://localhost:8080/",
          "height": 265
        },
        "id": "-bnAYQqVfRX-",
        "outputId": "20db78f4-9341-4b9f-bf28-f6c03ad0a7d5"
      },
      "source": [
        "plt.hist(X[2]);"
      ],
      "execution_count": null,
      "outputs": [
        {
          "output_type": "display_data",
          "data": {
            "image/png": "[encoded data removed]",
            "text/plain": [
              "<Figure size 432x288 with 1 Axes>"
            ]
          },
          "metadata": {
            "tags": [],
            "needs_background": "light"
          }
        }
      ]
    },
    {
      "cell_type": "markdown",
      "metadata": {
        "id": "bR2TmoVTe_u1"
      },
      "source": [
        "$$x_{ij}=\\frac{x_{ij} - \\mu_{j}}{\\sigma_{j}}$$"
      ]
    },
    {
      "cell_type": "code",
      "metadata": {
        "id": "M57-Pzl_f_rF",
        "colab": {
          "base_uri": "https://localhost:8080/"
        },
        "outputId": "b3459e08-0848-4f84-f215-1ec8544a9926"
      },
      "source": [
        "X_st = X.copy().astype(np.float64)\n",
        "\n",
        "X_st[1] = (X[1] - X[1].mean()) / X[1].std()\n",
        "X_st[1]"
      ],
      "execution_count": null,
      "outputs": [
        {
          "output_type": "execute_result",
          "data": {
            "text/plain": [
              "array([-0.57142857, -0.57142857, -0.21428571, -0.57142857,  0.14285714,\n",
              "       -0.92857143,  0.85714286,  2.64285714, -0.57142857, -0.21428571])"
            ]
          },
          "metadata": {
            "tags": []
          },
          "execution_count": 18
        }
      ]
    },
    {
      "cell_type": "code",
      "metadata": {
        "id": "HKB3Jgkoe_u2",
        "colab": {
          "base_uri": "https://localhost:8080/"
        },
        "outputId": "d31101f4-340a-4afd-a20c-e45fd6efe384"
      },
      "source": [
        "X_st[1].mean(), X_st[1].std()"
      ],
      "execution_count": null,
      "outputs": [
        {
          "output_type": "execute_result",
          "data": {
            "text/plain": [
              "(3.3306690738754695e-17, 1.0)"
            ]
          },
          "metadata": {
            "tags": []
          },
          "execution_count": 19
        }
      ]
    },
    {
      "cell_type": "code",
      "metadata": {
        "colab": {
          "base_uri": "https://localhost:8080/",
          "height": 265
        },
        "id": "-Y1tzWGCgYjA",
        "outputId": "7f5dcbdc-9d08-4157-960b-58b67950524a"
      },
      "source": [
        "plt.hist(X_st[1]);"
      ],
      "execution_count": null,
      "outputs": [
        {
          "output_type": "display_data",
          "data": {
            "image/png": "[encoded data removed]",
            "text/plain": [
              "<Figure size 432x288 with 1 Axes>"
            ]
          },
          "metadata": {
            "tags": [],
            "needs_background": "light"
          }
        }
      ]
    },
    {
      "cell_type": "code",
      "metadata": {
        "id": "ZlJUBOyzgkJV"
      },
      "source": [
        "def calc_std_feat(x):\n",
        "    res = (x - x.mean()) / x.std()\n",
        "    return res"
      ],
      "execution_count": null,
      "outputs": []
    },
    {
      "cell_type": "code",
      "metadata": {
        "id": "6PlDlFY0hGZA",
        "colab": {
          "base_uri": "https://localhost:8080/"
        },
        "outputId": "659da410-a71b-4615-c115-b51b81d30861"
      },
      "source": [
        "X_st[2] = calc_std_feat(X[2])\n",
        "X_st[3] = calc_std_feat(X[3])\n",
        "print(X_st[2])\n",
        "print(X_st[3])"
      ],
      "execution_count": null,
      "outputs": [
        {
          "output_type": "stream",
          "text": [
            "[-0.97958969 -0.56713087 -0.46401617 -0.77336028  0.97958969 -0.36090146\n",
            "  1.08270439  2.11385144 -1.08270439  0.05155735]\n",
            "[-0.89625816 -0.89625816  0.38411064 -0.89625816  0.38411064 -0.89625816\n",
            "  1.66447944  1.66447944 -0.89625816  0.38411064]\n"
          ],
          "name": "stdout"
        }
      ]
    },
    {
      "cell_type": "code",
      "metadata": {
        "id": "UdGy9tjVhZol"
      },
      "source": [
        "### Стохастический градиентный спуск (SGD)"
      ],
      "execution_count": null,
      "outputs": []
    },
    {
      "cell_type": "code",
      "metadata": {
        "id": "VDpN7UxYnrcS"
      },
      "source": [
        "def calc_mse(y, y_pred):\n",
        "    err = np.mean((y - y_pred)**2)\n",
        "    return err\n",
        "\n",
        "def eval_model(X, y, iterations, alpha=1e-4):\n",
        "    np.random.seed(42)\n",
        "    W = np.random.randn(X.shape[0])\n",
        "    n = X.shape[1]\n",
        "    for i in range(1, iterations + 1):\n",
        "        y_pred = np.dot(W, X)\n",
        "        err = calc_mse(y, y_pred)\n",
        "        W -= alpha * (1/n * 2 * np.dot((y_pred - y), X.T))\n",
        "        if i % (iterations / 10) == 0:\n",
        "            print(i, W, err)\n",
        "    return W"
      ],
      "execution_count": null,
      "outputs": []
    },
    {
      "cell_type": "code",
      "metadata": {
        "colab": {
          "base_uri": "https://localhost:8080/"
        },
        "id": "4nsYMAGjmFlB",
        "outputId": "ce0a9569-013a-40ab-9202-e898f8abff83"
      },
      "source": [
        "eval_model(X_st, y, iterations=1000, alpha=1e-3)"
      ],
      "execution_count": null,
      "outputs": [
        {
          "output_type": "stream",
          "text": [
            "100 [10.82085913  1.29195795  1.98348488  2.85162983] 2248.0687649833903\n",
            "200 [19.27186149  2.14047528  2.7330693   3.60356199] 1510.2342373891095\n",
            "300 [26.18957149  2.65450377  3.14650922  4.02491826] 1022.3117228222379\n",
            "400 [31.85217926  2.97593535  3.36731266  4.25691776] 697.4953996732185\n",
            "500 [36.48740201  3.18621662  3.47783381  4.380594  ] 480.5372368524701\n",
            "600 [40.28164149  3.33210452  3.52533114  4.4424407 ] 335.37869032086354\n",
            "700 [43.38747997  3.44044741  3.53692186  4.46912965] 238.17499151935826\n",
            "800 [45.92981625  3.52666784  3.52816434  4.4759573 ] 173.05307208407038\n",
            "900 [48.01088834  3.59963079  3.50798339  4.47169216] 129.41143950399118\n",
            "1000 [49.71438487  3.66443755  3.48149699  4.4613567 ] 100.15781666892352\n"
          ],
          "name": "stdout"
        },
        {
          "output_type": "execute_result",
          "data": {
            "text/plain": [
              "array([49.71438487,  3.66443755,  3.48149699,  4.4613567 ])"
            ]
          },
          "metadata": {
            "tags": []
          },
          "execution_count": 25
        }
      ]
    },
    {
      "cell_type": "code",
      "metadata": {
        "id": "nCcMmNdQmxDp"
      },
      "source": [
        "def eval_sgd_model(X, y, iterations, qty_in_batch, alpha=1e-4):\n",
        "    np.random.seed(42)\n",
        "    W = np.random.randn(X.shape[0])\n",
        "    n = X.shape[1] # число наблюдений\n",
        "    n_batch = n // qty_in_batch\n",
        "    if n % qty_in_batch != 0:\n",
        "        n_batch += 1\n",
        "    # print(n_batch)\n",
        "    for i in range(1, iterations + 1):\n",
        "        for b in range(n_batch):\n",
        "            start_ = qty_in_batch * b\n",
        "            end_ = qty_in_batch * (b + 1)\n",
        "            X_tmp = X[:, start_ : end_]\n",
        "            y_tmp = y[start_ : end_]\n",
        "            y_pred_tmp = np.dot(W, X_tmp)\n",
        "            err = calc_mse(y_tmp, y_pred_tmp)\n",
        "            W -= alpha * (1/n * 2 * np.dot((y_pred_tmp - y_tmp), X_tmp.T))\n",
        "        if i % (iterations / 10) == 0:\n",
        "            print(i, W, err)\n",
        "    return W"
      ],
      "execution_count": null,
      "outputs": []
    },
    {
      "cell_type": "code",
      "metadata": {
        "colab": {
          "base_uri": "https://localhost:8080/"
        },
        "id": "2aXap4Vsm3GV",
        "outputId": "e5d8092c-7590-452e-a08a-7b1e9631187a"
      },
      "source": [
        "eval_sgd_model(X_st, y, iterations=1000, qty_in_batch=7, alpha=1e-3) # 100.15781666892349"
      ],
      "execution_count": null,
      "outputs": [
        {
          "output_type": "stream",
          "text": [
            "100 [10.81768199  1.29211596  1.98434116  2.85187692] 2522.789859187071\n",
            "200 [19.2667204   2.14090213  2.73471582  3.60404193] 1638.0512843953377\n",
            "300 [26.18331231  2.65508951  3.14871155  4.02547865] 1079.829587461432\n",
            "400 [31.84538726  2.97653289  3.36983412  4.25741062] 719.5624052459513\n",
            "500 [36.48047631  3.18670618  3.48048876  4.38091792] 483.4825859720406\n",
            "600 [40.27484773  3.33240763  3.52799167  4.44254283] 327.1549212062719\n",
            "700 [43.38098818  3.44052217  3.5395083   4.46899484] 222.86385094602664\n",
            "800 [45.92372825  3.52649917  3.53063226  4.47559543] 152.89863380046597\n",
            "900 [48.00525771  3.59922111  3.51031216  4.47112755] 105.75171355762372\n",
            "1000 [49.70923163  3.66379947  3.48368088  4.46062051] 73.85951796171419\n"
          ],
          "name": "stdout"
        },
        {
          "output_type": "execute_result",
          "data": {
            "text/plain": [
              "array([49.70923163,  3.66379947,  3.48368088,  4.46062051])"
            ]
          },
          "metadata": {
            "tags": []
          },
          "execution_count": 27
        }
      ]
    },
    {
      "cell_type": "code",
      "metadata": {
        "id": "DYTxT_6OrZpe"
      },
      "source": [
        "### L1 регуляризация - Lasso"
      ],
      "execution_count": null,
      "outputs": []
    },
    {
      "cell_type": "markdown",
      "metadata": {
        "id": "zURLWoLve_u5"
      },
      "source": [
        "$$\\sum^{n}_{i=1}L_i(\\vec{x}_i,{y_i},\\vec{w}) + \\lambda \\sum^{m}_{j=1}|w_{j}| \\rightarrow \\underset{w}{\\text{min}}$$"
      ]
    },
    {
      "cell_type": "code",
      "metadata": {
        "id": "j38vId7Hvtg0"
      },
      "source": [
        "### L2 регуляризация - Ridge"
      ],
      "execution_count": null,
      "outputs": []
    },
    {
      "cell_type": "markdown",
      "metadata": {
        "id": "ZmrrgfAce_u6"
      },
      "source": [
        "$$\\sum^{n}_{i=1}L_i(\\vec{x}_i,y_i,\\vec{w}) + \\lambda \\sum^{m}_{j=1}w_{j}^{2} \\rightarrow \\underset{w}{\\text{min}}$$"
      ]
    },
    {
      "cell_type": "code",
      "metadata": {
        "id": "7AVoe1Mswjni"
      },
      "source": [
        "def eval_model_reg2(X, y, iterations, alpha=1e-4, lambda_=1e-8):\n",
        "    np.random.seed(42)\n",
        "    W = np.random.randn(X.shape[0])\n",
        "    n = X.shape[1]\n",
        "    for i in range(1, iterations + 1):\n",
        "        y_pred = np.dot(W, X)\n",
        "        err = calc_mse(y, y_pred)\n",
        "        W -= alpha * (1/n * 2 * np.dot((y_pred - y), X.T) + 2 * lambda_ * W) \n",
        "        if i % (iterations / 10) == 0:\n",
        "            print(i, W, err)\n",
        "    return W"
      ],
      "execution_count": null,
      "outputs": []
    },
    {
      "cell_type": "code",
      "metadata": {
        "colab": {
          "base_uri": "https://localhost:8080/"
        },
        "id": "vLJL6j8Lw6OA",
        "outputId": "6b45e777-f591-4fb9-d18e-f2784929e9ce"
      },
      "source": [
        "eval_model_reg2(X_st, y, iterations=1000, alpha=1e-3, lambda_=0.001)"
      ],
      "execution_count": null,
      "outputs": [
        {
          "output_type": "stream",
          "text": [
            "100 [10.81977943  1.29188479  1.98326638  2.85123887] 2248.174495966113\n",
            "200 [19.26820475  2.14025079  2.73257885  3.60272972] 1510.52005056178\n",
            "300 [26.18241951  2.65414327  3.14578694  4.02368617] 1022.7641434294361\n",
            "400 [31.84103209  2.97547956  3.36642337  4.25535143] 698.0693104166692\n",
            "500 [36.47205635  3.18570474  3.47683987  4.37875637] 481.1820474779944\n",
            "600 [40.26209948  3.33156577  3.52428387  4.44038363] 336.04984524294935\n",
            "700 [43.36388132  3.43990014  3.53586071  4.46689313] 238.83798105676897\n",
            "800 [45.90238819  3.52612135  3.5271187   4.47357128] 173.68373121426237\n",
            "900 [47.97990927  3.59908764  3.50697503  4.46917888] 129.99460131981886\n",
            "1000 [49.68015829  3.66389563  3.48054215  4.45873282] 100.68542522258227\n"
          ],
          "name": "stdout"
        },
        {
          "output_type": "execute_result",
          "data": {
            "text/plain": [
              "array([49.68015829,  3.66389563,  3.48054215,  4.45873282])"
            ]
          },
          "metadata": {
            "tags": []
          },
          "execution_count": 32
        }
      ]
    },
    {
      "cell_type": "code",
      "metadata": {
        "id": "WLREMakFxQgX"
      },
      "source": [
        "# В некоторых алгоритмах используется обратный коэффициент\n",
        "lambda_=1e-5\n",
        "C = 1/lambda_"
      ],
      "execution_count": null,
      "outputs": []
    },
    {
      "cell_type": "markdown",
      "metadata": {
        "id": "zlG2AJnne_vA"
      },
      "source": [
        "### Домашние задания"
      ]
    },
    {
      "cell_type": "markdown",
      "metadata": {
        "id": "aELckUDWe_vB"
      },
      "source": [
        "1. Постройте график зависимости весов всех признаков от lambda в L2-регуляризации (на данных из урока).  \n",
        "\n",
        "2. Можно ли к одному и тому же признаку применить сразу и нормализацию, и стандартизацию?  \n",
        "\n",
        "3. *Напишите функцию наподобие eval_model_reg2, но для применения L1-регуляризации."
      ]
    },
    {
      "cell_type": "markdown",
      "metadata": {
        "id": "KBI5-WpPMg8u"
      },
      "source": [
        "1. Постройте график зависимости весов всех признаков от lambda в L2-регуляризации (на данных из урока).  "
      ]
    },
    {
      "cell_type": "code",
      "metadata": {
        "id": "JCxJK0LgOvSi"
      },
      "source": [
        "def eval_model_reg2_ch(X, y, iterations, alpha=1e-4, lambda_=1e-8):\n",
        "    np.random.seed(42)\n",
        "    W = np.random.randn(X.shape[0])\n",
        "    n = X.shape[1]\n",
        "    for i in range(1, iterations + 1):\n",
        "        y_pred = np.dot(W, X)\n",
        "        err = calc_mse(y, y_pred)\n",
        "        W -= alpha * (1/n * 2 * np.dot((y_pred - y), X.T) + 2 * lambda_ * W) \n",
        "    return W"
      ],
      "execution_count": null,
      "outputs": []
    },
    {
      "cell_type": "code",
      "metadata": {
        "id": "eir_uEjEgjPl"
      },
      "source": [
        "lambda_list = np.linspace(1e-4, 1e-1, num=100)\n",
        "\n",
        "W = [eval_model_reg2_ch(X_st, y, iterations=1000, alpha=1e-3, lambda_=i) for i in lambda_list]\n",
        "\n",
        "W1 = [W[i][0] for i in range((len(W)))]\n",
        "W2 = [W[i][1] for i in range((len(W)))]\n",
        "W3 = [W[i][2] for i in range((len(W)))]\n",
        "W4 = [W[i][3] for i in range((len(W)))]"
      ],
      "execution_count": null,
      "outputs": []
    },
    {
      "cell_type": "code",
      "metadata": {
        "colab": {
          "base_uri": "https://localhost:8080/",
          "height": 390
        },
        "id": "mgi7kQ4XTorH",
        "outputId": "dbc2dce2-3f4f-4411-a7d1-a8c8f1912055"
      },
      "source": [
        "fig, ax = plt.subplots(nrows=2, ncols=2)\n",
        "ax1, ax2, ax3, ax4 = ax.flatten()\n",
        "\n",
        "fig.set_size_inches(8, 6)\n",
        "fig.subplots_adjust(wspace=0.3, hspace=0.3)\n",
        "\n",
        "ax1.plot(lambda_list, W1)\n",
        "ax1.set_title(\"W1\")\n",
        "ax2.plot(lambda_list, W2)\n",
        "ax2.set_title(\"W2\")\n",
        "ax3.plot(lambda_list, W3)\n",
        "ax3.set_title(\"W3\")\n",
        "ax4.plot(lambda_list, W4)\n",
        "ax4.set_title(\"W4\")\n",
        "plt.show()"
      ],
      "execution_count": null,
      "outputs": [
        {
          "output_type": "display_data",
          "data": {
            "image/png": "[encoded data removed]",
            "text/plain": [
              "<Figure size 576x432 with 4 Axes>"
            ]
          },
          "metadata": {
            "tags": [],
            "needs_background": "light"
          }
        }
      ]
    },
    {
      "cell_type": "markdown",
      "metadata": {
        "id": "RUttC3kuWQzY"
      },
      "source": [
        "2. Можно ли к одному и тому же признаку применить сразу и нормализацию, и стандартизацию?  "
      ]
    },
    {
      "cell_type": "markdown",
      "metadata": {
        "id": "GIUw2puoWqMy"
      },
      "source": [
        "К одному признаку нельзя применить сразу нормализацию, и стандартизацию, так как при нормализации значения признака станет от 0 до 1 и измениться его средняя и стандартное отклониние."
      ]
    }
  ]
}